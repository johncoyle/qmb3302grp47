{
 "cells": [
  {
   "cell_type": "markdown",
   "metadata": {},
   "source": [
    "# Loops and Practice\n",
    "\n",
    "Each question is worth 4 points. 10 questions = 40 points. In all cases full points are given when the code runs and has the correct output. Partial credit will be given for a good try.\n",
    "\n",
    "Reflection is worth 10 points."
   ]
  },
  {
   "cell_type": "markdown",
   "metadata": {},
   "source": [
    "#### 1. For each data type below. Create a variable of that type, and briefly (1 line or less) describe the data types properties in the comment above.\n",
    "    \n",
    "            Example \n",
    "             Integers are a whole number (like 2), not a fraction (like 2.5)\n",
    "             x = 1"
   ]
  },
  {
   "cell_type": "code",
   "execution_count": null,
   "metadata": {},
   "outputs": [],
   "source": [
    "# integers are....\n",
    "x =\n",
    "print(type(x))\n",
    "\n",
    "# float\n",
    "y =\n",
    "print(type(y))\n",
    "\n",
    "# string\n",
    "s = \n",
    "print(type(s))\n",
    "\n",
    "# Boolean\n",
    "b = \n",
    "print(type(b))\n",
    "\n",
    "# Complex Numbers\n",
    "c =\n",
    "print(type(c))"
   ]
  },
  {
   "cell_type": "markdown",
   "metadata": {},
   "source": [
    "#### 2. Explain and demonstrate the rules regarding variable naming in Python. Explain 4 rules. "
   ]
  },
  {
   "cell_type": "code",
   "execution_count": 3,
   "metadata": {},
   "outputs": [
    {
     "ename": "SyntaxError",
     "evalue": "invalid syntax (<ipython-input-3-519275a8bc54>, line 4)",
     "output_type": "error",
     "traceback": [
      "\u001b[1;36m  File \u001b[1;32m\"<ipython-input-3-519275a8bc54>\"\u001b[1;36m, line \u001b[1;32m4\u001b[0m\n\u001b[1;33m    I am a variable = x\u001b[0m\n\u001b[1;37m       ^\u001b[0m\n\u001b[1;31mSyntaxError\u001b[0m\u001b[1;31m:\u001b[0m invalid syntax\n"
     ]
    }
   ],
   "source": [
    "#Example\n",
    "#Python variable names cannot have a space. You can use this as one of your rules, just change the example. \n",
    "\n",
    "I am a variable = x"
   ]
  },
  {
   "cell_type": "markdown",
   "metadata": {},
   "source": [
    "#### 3. Explain and demonstrate what happens when you perform operations (like multiplication or division) across different variable types. Show at least 4 examples. \n",
    "\n",
    "    example: string * int\n",
    "   "
   ]
  },
  {
   "cell_type": "code",
   "execution_count": null,
   "metadata": {},
   "outputs": [],
   "source": [
    "# example 1 (you can erase this text repalce it with your own)"
   ]
  },
  {
   "cell_type": "code",
   "execution_count": null,
   "metadata": {},
   "outputs": [],
   "source": [
    "# example 2 (you can erase this text repalce it with your own)"
   ]
  },
  {
   "cell_type": "code",
   "execution_count": null,
   "metadata": {},
   "outputs": [],
   "source": [
    "# example 3 (you can erase this text repalce it with your own)"
   ]
  },
  {
   "cell_type": "code",
   "execution_count": null,
   "metadata": {},
   "outputs": [],
   "source": [
    "# example 4 (you can erase this text repalce it with your own)"
   ]
  },
  {
   "cell_type": "markdown",
   "metadata": {},
   "source": [
    "#### 4. Write an if statement that evaluates if a variable (y) is greater than or equal to 100, and prints the result (you can show the result in any way you choose)"
   ]
  },
  {
   "cell_type": "markdown",
   "metadata": {},
   "source": [
    "#### 5. Print the following pattern using a for loop\n",
    "\n",
    "The pattern is not an error. The first row starts with \"1 1 2\". It is a hard problem, but try your best. If you don't find a solution, then enter a solution for what you do find, don't leave it blank. \n",
    "\n",
    "1 1 2   \n",
    "1 2 3   \n",
    "1 2 3 4   \n",
    "1 2 3 4 5   \n",
    "1 2 3 4 5 6   \n",
    "1 2 3 4 5 6 7   \n",
    "1 2 3 4 5 6 7 8   \n",
    "1 2 3 4 5 6 7 8 9   \n",
    "1 2 3 4 5 6 7 8 9 10  "
   ]
  },
  {
   "cell_type": "code",
   "execution_count": null,
   "metadata": {},
   "outputs": [],
   "source": [
    "# use this cell for your answer. Please ensure the entire answer is within this cell. \n"
   ]
  },
  {
   "cell_type": "markdown",
   "metadata": {},
   "source": [
    "#### 6. Given any list of positive values: iterate over the list and print/display numbers that are divisible by 2. Ensure the loop stops if it finds a number greater than 100.  An example list is provided, but your code should work on any list of postive values it is passed, of any length. "
   ]
  },
  {
   "cell_type": "code",
   "execution_count": 1,
   "metadata": {},
   "outputs": [],
   "source": [
    "#example of a list you can use to test your code\n",
    "##but you are free to create another list if you like... \n",
    "evenlist = [2, 4, 18, 19, 28, 37, 55, 79, 80, 100, 102]\n"
   ]
  },
  {
   "cell_type": "markdown",
   "metadata": {},
   "source": [
    "#### 7. Using a variable 'tminus', a positive integer between 1-10, create a countdown timer that starts at tminus, and ends at 0, printing each integer along the way. At the end, generate a statement (can be anything). "
   ]
  },
  {
   "cell_type": "code",
   "execution_count": null,
   "metadata": {},
   "outputs": [],
   "source": [
    "# write your solution below\n",
    "\n",
    "tminus = "
   ]
  },
  {
   "cell_type": "markdown",
   "metadata": {},
   "source": [
    "#### 8. Create a function that takes 2 numerical arguments, and performs on operation on them.  Print the result of that operation, explain what the function does. "
   ]
  },
  {
   "cell_type": "code",
   "execution_count": null,
   "metadata": {},
   "outputs": [],
   "source": [
    "# write your solution below\n",
    "# write your explanation (very short) in this same cell ABOVE your function. "
   ]
  },
  {
   "cell_type": "markdown",
   "metadata": {},
   "source": [
    "#### 9. Create a 'while loop' with a break that will take in a variable 'low' which is less that another variable 'high'. Print every value of low +2, and break when the value is greater than or equal to 'high'.  \n"
   ]
  },
  {
   "cell_type": "code",
   "execution_count": null,
   "metadata": {},
   "outputs": [],
   "source": [
    "# write your solution below\n",
    "\n",
    "#example:\n",
    "low = 2\n",
    "high = 4\n",
    "\n",
    "while ..."
   ]
  },
  {
   "cell_type": "markdown",
   "metadata": {},
   "source": [
    "#### 10. Create as many functions as you have team members (1 function per team member, 1 function cell and 1 markdown cell per team member). Seriously...any function! Explain what your function does, and how it might be useful. Demonstrate it's 'usefulness'. If it is not at all useful, explain why your function is essentially useless. Have fun.\n",
    "\n",
    "(note: to receive points for this exercise, ALL of the functions below this markdown cell must run. If a function has an error, correct it before submitting).\n"
   ]
  },
  {
   "cell_type": "code",
   "execution_count": null,
   "metadata": {},
   "outputs": [],
   "source": [
    "##########################################################################################################\n",
    "#Joel Davis Example\n",
    "#My function takes 3 numbers and adds them up. It is an incredibly useful function with many uses\n",
    "#in ordinary every day lives. Imagine I was in a supermarket, and wanted to sum up the total of 3\n",
    "#items. I could just whip out my laptop, boot jupyter, run this code, and voila, I have the total price.\n",
    "#So much easier than carrying a texas instruments calculator with me everywhere I go!\n",
    "##########################################################################################################\n",
    "\n",
    "def addmeup(x, y, z):\n",
    "    addme = x + y + z\n",
    "    return addme\n",
    "    \n",
    "p = addmeup(2,3,1)\n",
    "print(p) "
   ]
  },
  {
   "cell_type": "markdown",
   "metadata": {},
   "source": [
    "# Reflection\n",
    "\n",
    "This is one submission per team. \n",
    "\n",
    "This exercise does not need to be any more than 2-3 paragraphs, you are free to write more if you have more to say! \n",
    "\n",
    "\n",
    "**you do not need to use or follow this prompt. You can write whatever you want here**\n",
    "\n",
    "Discuss the course so far: (some prompts below: you can choose one of these or pick your own idea)\n",
    "    * For this specific assignment, were there any problems that you encounterd? How did you solve them?\n",
    "    * Summarize your thoughts so far (week 3). Is this too easy? Too hard? Just right?\n",
    "    * What are some business domains you would like to cover in depth in later weeks? (I have left some space in the course to address some of these, so let me know what you would like to see in terms of business problems and we will incorporate as many as we can)"
   ]
  },
  {
   "cell_type": "code",
   "execution_count": null,
   "metadata": {},
   "outputs": [],
   "source": []
  }
 ],
 "metadata": {
  "kernelspec": {
   "display_name": "Python 3",
   "language": "python",
   "name": "python3"
  },
  "language_info": {
   "codemirror_mode": {
    "name": "ipython",
    "version": 3
   },
   "file_extension": ".py",
   "mimetype": "text/x-python",
   "name": "python",
   "nbconvert_exporter": "python",
   "pygments_lexer": "ipython3",
   "version": "3.8.8"
  }
 },
 "nbformat": 4,
 "nbformat_minor": 4
}
